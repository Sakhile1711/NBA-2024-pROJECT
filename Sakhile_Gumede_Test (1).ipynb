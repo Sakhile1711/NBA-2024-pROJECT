{
  "nbformat": 4,
  "nbformat_minor": 0,
  "metadata": {
    "colab": {
      "provenance": []
    },
    "kernelspec": {
      "name": "python3",
      "display_name": "Python 3"
    },
    "language_info": {
      "name": "python"
    }
  },
  "cells": [
    {
      "cell_type": "code",
      "execution_count": 1,
      "metadata": {
        "colab": {
          "base_uri": "https://localhost:8080/",
          "height": 0
        },
        "id": "1F3ZvoTL7tz0",
        "outputId": "9bace713-8a82-480a-c7c1-ecfb474580b2"
      },
      "outputs": [
        {
          "output_type": "stream",
          "name": "stdout",
          "text": [
            "NO\n"
          ]
        }
      ],
      "source": [
        "# 4. Magic Potion Identifier\n",
        "def is_magical_potion(power):\n",
        "    if power < 1:\n",
        "        return \"NO\"\n",
        "\n",
        "    n = round(power**(1/3))\n",
        "    if n**3 == power:\n",
        "        return \"YES\"\n",
        "    else:\n",
        "        return \"NO\"\n",
        "\n",
        "power = 132651201231\n",
        "print(is_magical_potion(power))"
      ]
    },
    {
      "cell_type": "code",
      "source": [
        "# 5. Sneaky outcomes\n",
        "def find_duplicates(outcomes):\n",
        "    seen = set()\n",
        "    duplicates = []\n",
        "    for outcome in outcomes:\n",
        "        if outcome in seen:\n",
        "            duplicates.append(outcome)\n",
        "        else:\n",
        "            seen.add(outcome)\n",
        "    return duplicates\n",
        "\n",
        "outcomes = [123456, 234567, 123347, 456789, 567890, 678901, 789012, 890123, 901234, 112233, 223344, 334455, 789012, 222234, 123347]\n",
        "result = find_duplicates(outcomes)\n",
        "result\n"
      ],
      "metadata": {
        "colab": {
          "base_uri": "https://localhost:8080/",
          "height": 0
        },
        "id": "VDjpw-hr8c9a",
        "outputId": "cbeb40ea-66fd-40a8-f457-11607b3598c6"
      },
      "execution_count": 2,
      "outputs": [
        {
          "output_type": "execute_result",
          "data": {
            "text/plain": [
              "[789012, 123347]"
            ]
          },
          "metadata": {},
          "execution_count": 2
        }
      ]
    },
    {
      "cell_type": "code",
      "source": [
        "# 6. Reformat String to Alternating Case\n",
        "def reformat_string(s):\n",
        "    result = \"\"\n",
        "    toggle = True\n",
        "    for char in s:\n",
        "        if 'a' <= char <= 'z' or 'A' <= char <= 'Z':\n",
        "            if toggle:\n",
        "                result += char.upper()\n",
        "            else:\n",
        "                result += char.lower()\n",
        "            toggle = not toggle\n",
        "        else:\n",
        "            result += char\n",
        "    return result\n",
        "\n",
        "input_string = \"Za^B8g@E2jH*kWl!MoPqXr7YvT1c$Fs3Ud9IwZ&yX0pLkV6sHqN^tB4rA+oZ%gFj\"\n",
        "print(reformat_string(input_string))"
      ],
      "metadata": {
        "colab": {
          "base_uri": "https://localhost:8080/",
          "height": 0
        },
        "id": "-0yE6ITo9EKZ",
        "outputId": "603ceb26-5053-4321-fbea-5cd79315f589"
      },
      "execution_count": 3,
      "outputs": [
        {
          "output_type": "stream",
          "name": "stdout",
          "text": [
            "Za^B8g@E2jH*kWl!MoPqXr7YvT1c$Fs3Ud9IwZ&yX0pLkV6sHqN^tB4rA+oZ%gFj\n"
          ]
        }
      ]
    },
    {
      "cell_type": "code",
      "source": [
        "# 7. Organizing Books into Identical Sets\n",
        "from collections import Counter\n",
        "\n",
        "def organize_books(shelf):\n",
        "    counts = Counter(shelf)\n",
        "\n",
        "    if not counts:\n",
        "        return \"YES\"\n",
        "\n",
        "    x = 0\n",
        "    for count in counts.values():\n",
        "      if x == 0:\n",
        "        x = count\n",
        "      elif count % x != 0 and x % count != 0:\n",
        "        return \"NO\"\n",
        "\n",
        "    for count in counts.values():\n",
        "      if count < 2 :\n",
        "        return \"NO\"\n",
        "\n",
        "    return \"YES\"\n",
        "\n",
        "bookshelf = [1234567, 1234567, 2345678, 2345678, 3456789, 3456789, 1234567, 2345678, 3456789, 4567890, 4567890, 5678901, 5678901, 6789012, 6789012, 1234567, 2345678, 3456789, 4567890, 5678901, 4567890, 5678901]\n",
        "print(organize_books(bookshelf))\n"
      ],
      "metadata": {
        "colab": {
          "base_uri": "https://localhost:8080/",
          "height": 0
        },
        "id": "VQ1ImirB9k1T",
        "outputId": "6759ac2d-7982-4b79-e919-1d434ba5f30b"
      },
      "execution_count": 4,
      "outputs": [
        {
          "output_type": "stream",
          "name": "stdout",
          "text": [
            "YES\n"
          ]
        }
      ]
    },
    {
      "cell_type": "code",
      "source": [
        "# 9. NBA player statistics\n",
        "# Importing libraries\n",
        "import pandas as pd\n",
        "import numpy as np\n",
        "\n",
        "df = pd.read_csv(\"/content/NBA_2024_cleaned.csv\")\n",
        "\n",
        "# Selecting only numeric columns for correlation analysis\n",
        "numeric_cols = df.select_dtypes(include=np.number)\n",
        "\n",
        "# Calculating the correlation matrix\n",
        "correlation_matrix = numeric_cols.corr()\n",
        "\n",
        "# Getting the correlation with PTS\n",
        "pts_correlation = correlation_matrix[\"PTS\"].drop(\"PTS\")\n",
        "\n",
        "# Sort by absolute correlation and get the top 5\n",
        "top_5_correlated = pts_correlation.abs().sort_values(ascending=False).head(5)\n",
        "\n",
        "top_5_correlated"
      ],
      "metadata": {
        "colab": {
          "base_uri": "https://localhost:8080/",
          "height": 241
        },
        "id": "ubPKSmSR_BZY",
        "outputId": "9364524e-4247-48f4-bcc5-a35c1b7f80b7"
      },
      "execution_count": 5,
      "outputs": [
        {
          "output_type": "execute_result",
          "data": {
            "text/plain": [
              "FG     0.989895\n",
              "FGA    0.980876\n",
              "2PA    0.919509\n",
              "2P     0.909077\n",
              "FT     0.884021\n",
              "Name: PTS, dtype: float64"
            ],
            "text/html": [
              "<div>\n",
              "<style scoped>\n",
              "    .dataframe tbody tr th:only-of-type {\n",
              "        vertical-align: middle;\n",
              "    }\n",
              "\n",
              "    .dataframe tbody tr th {\n",
              "        vertical-align: top;\n",
              "    }\n",
              "\n",
              "    .dataframe thead th {\n",
              "        text-align: right;\n",
              "    }\n",
              "</style>\n",
              "<table border=\"1\" class=\"dataframe\">\n",
              "  <thead>\n",
              "    <tr style=\"text-align: right;\">\n",
              "      <th></th>\n",
              "      <th>PTS</th>\n",
              "    </tr>\n",
              "  </thead>\n",
              "  <tbody>\n",
              "    <tr>\n",
              "      <th>FG</th>\n",
              "      <td>0.989895</td>\n",
              "    </tr>\n",
              "    <tr>\n",
              "      <th>FGA</th>\n",
              "      <td>0.980876</td>\n",
              "    </tr>\n",
              "    <tr>\n",
              "      <th>2PA</th>\n",
              "      <td>0.919509</td>\n",
              "    </tr>\n",
              "    <tr>\n",
              "      <th>2P</th>\n",
              "      <td>0.909077</td>\n",
              "    </tr>\n",
              "    <tr>\n",
              "      <th>FT</th>\n",
              "      <td>0.884021</td>\n",
              "    </tr>\n",
              "  </tbody>\n",
              "</table>\n",
              "</div><br><label><b>dtype:</b> float64</label>"
            ]
          },
          "metadata": {},
          "execution_count": 5
        }
      ]
    },
    {
      "cell_type": "code",
      "source": [
        "# 10. NBA player statistics\n",
        "# Importing libraries\n",
        "import pandas as pd\n",
        "import matplotlib.pyplot as plt\n",
        "\n",
        "# Defining high scorers\n",
        "high_scorers = df[df['PTS'] >= 20]\n",
        "other_players = df[df['PTS'] < 20]\n",
        "\n",
        "# Metrics to compare\n",
        "metrics = ['FGA', '3PA', 'FT', 'AST', 'TRB']\n",
        "\n",
        "# Calculating mean values for each metric\n",
        "mean_high_scorers = high_scorers[metrics].mean()\n",
        "mean_other_players = other_players[metrics].mean()\n",
        "\n",
        "# Creating a DataFrame for comparison\n",
        "comparison_df = pd.DataFrame({'High Scorers': mean_high_scorers, 'Other Players': mean_other_players})\n",
        "\n",
        "# Plotting the comparison\n",
        "comparison_df.plot(kind='bar', figsize=(10, 6))\n",
        "plt.title('Comparison of Metrics between High Scorers and Other Players')\n",
        "plt.xlabel('Metrics')\n",
        "plt.ylabel('Mean Value')\n",
        "plt.xticks(rotation=0)\n",
        "plt.legend()\n",
        "plt.tight_layout()\n",
        "plt.show()\n"
      ],
      "metadata": {
        "colab": {
          "base_uri": "https://localhost:8080/",
          "height": 607
        },
        "id": "JRdMs5ZEAqvA",
        "outputId": "6a9c0446-af66-410b-aab0-1d617cc174c0"
      },
      "execution_count": 6,
      "outputs": [
        {
          "output_type": "display_data",
          "data": {
            "text/plain": [
              "<Figure size 1000x600 with 1 Axes>"
            ],
            "image/png": "[encoded data removed]"
          },
          "metadata": {}
        }
      ]
    }
  ]
}